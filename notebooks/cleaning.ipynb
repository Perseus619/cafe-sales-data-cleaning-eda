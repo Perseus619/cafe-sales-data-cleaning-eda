{
 "cells": [
  {
   "cell_type": "markdown",
   "id": "51288faf",
   "metadata": {},
   "source": [
    "### Loading the Data"
   ]
  },
  {
   "cell_type": "code",
   "execution_count": 62,
   "id": "7de6d9b0",
   "metadata": {},
   "outputs": [],
   "source": [
    "# Import pandas and load the raw cafe sales data\n",
    "import pandas as pd\n",
    "\n",
    "file_path = '../data/raw/dirty_cafe_sales.csv'\n",
    "df = pd.read_csv(file_path)\n"
   ]
  },
  {
   "cell_type": "markdown",
   "id": "cfba617d",
   "metadata": {},
   "source": [
    "### Initial Data Audit"
   ]
  },
  {
   "cell_type": "code",
   "execution_count": 63,
   "id": "94e6fc03",
   "metadata": {},
   "outputs": [
    {
     "data": {
      "text/html": [
       "<div>\n",
       "<style scoped>\n",
       "    .dataframe tbody tr th:only-of-type {\n",
       "        vertical-align: middle;\n",
       "    }\n",
       "\n",
       "    .dataframe tbody tr th {\n",
       "        vertical-align: top;\n",
       "    }\n",
       "\n",
       "    .dataframe thead th {\n",
       "        text-align: right;\n",
       "    }\n",
       "</style>\n",
       "<table border=\"1\" class=\"dataframe\">\n",
       "  <thead>\n",
       "    <tr style=\"text-align: right;\">\n",
       "      <th></th>\n",
       "      <th>Transaction ID</th>\n",
       "      <th>Item</th>\n",
       "      <th>Quantity</th>\n",
       "      <th>Price Per Unit</th>\n",
       "      <th>Total Spent</th>\n",
       "      <th>Payment Method</th>\n",
       "      <th>Location</th>\n",
       "      <th>Transaction Date</th>\n",
       "    </tr>\n",
       "  </thead>\n",
       "  <tbody>\n",
       "    <tr>\n",
       "      <th>0</th>\n",
       "      <td>TXN_1961373</td>\n",
       "      <td>Coffee</td>\n",
       "      <td>2</td>\n",
       "      <td>2.0</td>\n",
       "      <td>4.0</td>\n",
       "      <td>Credit Card</td>\n",
       "      <td>Takeaway</td>\n",
       "      <td>2023-09-08</td>\n",
       "    </tr>\n",
       "    <tr>\n",
       "      <th>1</th>\n",
       "      <td>TXN_4977031</td>\n",
       "      <td>Cake</td>\n",
       "      <td>4</td>\n",
       "      <td>3.0</td>\n",
       "      <td>12.0</td>\n",
       "      <td>Cash</td>\n",
       "      <td>In-store</td>\n",
       "      <td>2023-05-16</td>\n",
       "    </tr>\n",
       "    <tr>\n",
       "      <th>2</th>\n",
       "      <td>TXN_4271903</td>\n",
       "      <td>Cookie</td>\n",
       "      <td>4</td>\n",
       "      <td>1.0</td>\n",
       "      <td>ERROR</td>\n",
       "      <td>Credit Card</td>\n",
       "      <td>In-store</td>\n",
       "      <td>2023-07-19</td>\n",
       "    </tr>\n",
       "    <tr>\n",
       "      <th>3</th>\n",
       "      <td>TXN_7034554</td>\n",
       "      <td>Salad</td>\n",
       "      <td>2</td>\n",
       "      <td>5.0</td>\n",
       "      <td>10.0</td>\n",
       "      <td>UNKNOWN</td>\n",
       "      <td>UNKNOWN</td>\n",
       "      <td>2023-04-27</td>\n",
       "    </tr>\n",
       "    <tr>\n",
       "      <th>4</th>\n",
       "      <td>TXN_3160411</td>\n",
       "      <td>Coffee</td>\n",
       "      <td>2</td>\n",
       "      <td>2.0</td>\n",
       "      <td>4.0</td>\n",
       "      <td>Digital Wallet</td>\n",
       "      <td>In-store</td>\n",
       "      <td>2023-06-11</td>\n",
       "    </tr>\n",
       "    <tr>\n",
       "      <th>5</th>\n",
       "      <td>TXN_2602893</td>\n",
       "      <td>Smoothie</td>\n",
       "      <td>5</td>\n",
       "      <td>4.0</td>\n",
       "      <td>20.0</td>\n",
       "      <td>Credit Card</td>\n",
       "      <td>NaN</td>\n",
       "      <td>2023-03-31</td>\n",
       "    </tr>\n",
       "    <tr>\n",
       "      <th>6</th>\n",
       "      <td>TXN_4433211</td>\n",
       "      <td>UNKNOWN</td>\n",
       "      <td>3</td>\n",
       "      <td>3.0</td>\n",
       "      <td>9.0</td>\n",
       "      <td>ERROR</td>\n",
       "      <td>Takeaway</td>\n",
       "      <td>2023-10-06</td>\n",
       "    </tr>\n",
       "    <tr>\n",
       "      <th>7</th>\n",
       "      <td>TXN_6699534</td>\n",
       "      <td>Sandwich</td>\n",
       "      <td>4</td>\n",
       "      <td>4.0</td>\n",
       "      <td>16.0</td>\n",
       "      <td>Cash</td>\n",
       "      <td>UNKNOWN</td>\n",
       "      <td>2023-10-28</td>\n",
       "    </tr>\n",
       "    <tr>\n",
       "      <th>8</th>\n",
       "      <td>TXN_4717867</td>\n",
       "      <td>NaN</td>\n",
       "      <td>5</td>\n",
       "      <td>3.0</td>\n",
       "      <td>15.0</td>\n",
       "      <td>NaN</td>\n",
       "      <td>Takeaway</td>\n",
       "      <td>2023-07-28</td>\n",
       "    </tr>\n",
       "    <tr>\n",
       "      <th>9</th>\n",
       "      <td>TXN_2064365</td>\n",
       "      <td>Sandwich</td>\n",
       "      <td>5</td>\n",
       "      <td>4.0</td>\n",
       "      <td>20.0</td>\n",
       "      <td>NaN</td>\n",
       "      <td>In-store</td>\n",
       "      <td>2023-12-31</td>\n",
       "    </tr>\n",
       "  </tbody>\n",
       "</table>\n",
       "</div>"
      ],
      "text/plain": [
       "  Transaction ID      Item Quantity Price Per Unit Total Spent  \\\n",
       "0    TXN_1961373    Coffee        2            2.0         4.0   \n",
       "1    TXN_4977031      Cake        4            3.0        12.0   \n",
       "2    TXN_4271903    Cookie        4            1.0       ERROR   \n",
       "3    TXN_7034554     Salad        2            5.0        10.0   \n",
       "4    TXN_3160411    Coffee        2            2.0         4.0   \n",
       "5    TXN_2602893  Smoothie        5            4.0        20.0   \n",
       "6    TXN_4433211   UNKNOWN        3            3.0         9.0   \n",
       "7    TXN_6699534  Sandwich        4            4.0        16.0   \n",
       "8    TXN_4717867       NaN        5            3.0        15.0   \n",
       "9    TXN_2064365  Sandwich        5            4.0        20.0   \n",
       "\n",
       "   Payment Method  Location Transaction Date  \n",
       "0     Credit Card  Takeaway       2023-09-08  \n",
       "1            Cash  In-store       2023-05-16  \n",
       "2     Credit Card  In-store       2023-07-19  \n",
       "3         UNKNOWN   UNKNOWN       2023-04-27  \n",
       "4  Digital Wallet  In-store       2023-06-11  \n",
       "5     Credit Card       NaN       2023-03-31  \n",
       "6           ERROR  Takeaway       2023-10-06  \n",
       "7            Cash   UNKNOWN       2023-10-28  \n",
       "8             NaN  Takeaway       2023-07-28  \n",
       "9             NaN  In-store       2023-12-31  "
      ]
     },
     "execution_count": 63,
     "metadata": {},
     "output_type": "execute_result"
    }
   ],
   "source": [
    "# View first 10 rows   columns, and shape\n",
    "df.head(10)"
   ]
  },
  {
   "cell_type": "code",
   "execution_count": 64,
   "id": "feb1071f",
   "metadata": {},
   "outputs": [
    {
     "name": "stdout",
     "output_type": "stream",
     "text": [
      "<class 'pandas.core.frame.DataFrame'>\n",
      "RangeIndex: 10000 entries, 0 to 9999\n",
      "Data columns (total 8 columns):\n",
      " #   Column            Non-Null Count  Dtype \n",
      "---  ------            --------------  ----- \n",
      " 0   Transaction ID    10000 non-null  object\n",
      " 1   Item              9667 non-null   object\n",
      " 2   Quantity          9862 non-null   object\n",
      " 3   Price Per Unit    9821 non-null   object\n",
      " 4   Total Spent       9827 non-null   object\n",
      " 5   Payment Method    7421 non-null   object\n",
      " 6   Location          6735 non-null   object\n",
      " 7   Transaction Date  9841 non-null   object\n",
      "dtypes: object(8)\n",
      "memory usage: 625.1+ KB\n"
     ]
    }
   ],
   "source": [
    "# check info\n",
    "df.info()"
   ]
  },
  {
   "cell_type": "code",
   "execution_count": 65,
   "id": "7769d102",
   "metadata": {},
   "outputs": [
    {
     "data": {
      "text/html": [
       "<div>\n",
       "<style scoped>\n",
       "    .dataframe tbody tr th:only-of-type {\n",
       "        vertical-align: middle;\n",
       "    }\n",
       "\n",
       "    .dataframe tbody tr th {\n",
       "        vertical-align: top;\n",
       "    }\n",
       "\n",
       "    .dataframe thead th {\n",
       "        text-align: right;\n",
       "    }\n",
       "</style>\n",
       "<table border=\"1\" class=\"dataframe\">\n",
       "  <thead>\n",
       "    <tr style=\"text-align: right;\">\n",
       "      <th></th>\n",
       "      <th>Transaction ID</th>\n",
       "      <th>Item</th>\n",
       "      <th>Quantity</th>\n",
       "      <th>Price Per Unit</th>\n",
       "      <th>Total Spent</th>\n",
       "      <th>Payment Method</th>\n",
       "      <th>Location</th>\n",
       "      <th>Transaction Date</th>\n",
       "    </tr>\n",
       "  </thead>\n",
       "  <tbody>\n",
       "    <tr>\n",
       "      <th>count</th>\n",
       "      <td>10000</td>\n",
       "      <td>9667</td>\n",
       "      <td>9862</td>\n",
       "      <td>9821</td>\n",
       "      <td>9827</td>\n",
       "      <td>7421</td>\n",
       "      <td>6735</td>\n",
       "      <td>9841</td>\n",
       "    </tr>\n",
       "    <tr>\n",
       "      <th>unique</th>\n",
       "      <td>10000</td>\n",
       "      <td>10</td>\n",
       "      <td>7</td>\n",
       "      <td>8</td>\n",
       "      <td>19</td>\n",
       "      <td>5</td>\n",
       "      <td>4</td>\n",
       "      <td>367</td>\n",
       "    </tr>\n",
       "    <tr>\n",
       "      <th>top</th>\n",
       "      <td>TXN_1961373</td>\n",
       "      <td>Juice</td>\n",
       "      <td>5</td>\n",
       "      <td>3.0</td>\n",
       "      <td>6.0</td>\n",
       "      <td>Digital Wallet</td>\n",
       "      <td>Takeaway</td>\n",
       "      <td>UNKNOWN</td>\n",
       "    </tr>\n",
       "    <tr>\n",
       "      <th>freq</th>\n",
       "      <td>1</td>\n",
       "      <td>1171</td>\n",
       "      <td>2013</td>\n",
       "      <td>2429</td>\n",
       "      <td>979</td>\n",
       "      <td>2291</td>\n",
       "      <td>3022</td>\n",
       "      <td>159</td>\n",
       "    </tr>\n",
       "  </tbody>\n",
       "</table>\n",
       "</div>"
      ],
      "text/plain": [
       "       Transaction ID   Item Quantity Price Per Unit Total Spent  \\\n",
       "count           10000   9667     9862           9821        9827   \n",
       "unique          10000     10        7              8          19   \n",
       "top       TXN_1961373  Juice        5            3.0         6.0   \n",
       "freq                1   1171     2013           2429         979   \n",
       "\n",
       "        Payment Method  Location Transaction Date  \n",
       "count             7421      6735             9841  \n",
       "unique               5         4              367  \n",
       "top     Digital Wallet  Takeaway          UNKNOWN  \n",
       "freq              2291      3022              159  "
      ]
     },
     "execution_count": 65,
     "metadata": {},
     "output_type": "execute_result"
    }
   ],
   "source": [
    "# summary stats\n",
    "df.describe()"
   ]
  },
  {
   "cell_type": "code",
   "execution_count": 66,
   "id": "6f30ff9a",
   "metadata": {},
   "outputs": [
    {
     "data": {
      "text/plain": [
       "Index(['Transaction ID', 'Item', 'Quantity', 'Price Per Unit', 'Total Spent',\n",
       "       'Payment Method', 'Location', 'Transaction Date'],\n",
       "      dtype='object')"
      ]
     },
     "execution_count": 66,
     "metadata": {},
     "output_type": "execute_result"
    }
   ],
   "source": [
    "# View columns\n",
    "df.columns"
   ]
  },
  {
   "cell_type": "code",
   "execution_count": 67,
   "id": "6568dc9c",
   "metadata": {},
   "outputs": [
    {
     "data": {
      "text/plain": [
       "(10000, 8)"
      ]
     },
     "execution_count": 67,
     "metadata": {},
     "output_type": "execute_result"
    }
   ],
   "source": [
    "# View Shape \n",
    "df.shape"
   ]
  },
  {
   "cell_type": "markdown",
   "id": "5490fa7a",
   "metadata": {},
   "source": [
    "### Cleaning"
   ]
  },
  {
   "cell_type": "code",
   "execution_count": 68,
   "id": "a5110bca",
   "metadata": {},
   "outputs": [],
   "source": [
    "# Rename columns: strip whitespace and rename 'Total Spent' to 'Total Purchase'\n",
    "df.columns = df.columns.str.strip().str.replace(\"Total Spent\",\"Total Purchase\")\n"
   ]
  },
  {
   "cell_type": "code",
   "execution_count": 69,
   "id": "ec416892",
   "metadata": {},
   "outputs": [],
   "source": [
    "# Drop the Irrelivent columns\n",
    "df.drop(columns='Transaction ID', inplace=True)"
   ]
  },
  {
   "cell_type": "code",
   "execution_count": 70,
   "id": "2cd357e8",
   "metadata": {},
   "outputs": [],
   "source": [
    "# Converting Transaction Date to datetime from string\n",
    "df['Transaction Date'] = pd.to_datetime(df['Transaction Date'],format='%Y-%m-%d',errors='coerce')\n"
   ]
  },
  {
   "cell_type": "code",
   "execution_count": 71,
   "id": "6c95ea69",
   "metadata": {},
   "outputs": [
    {
     "data": {
      "text/plain": [
       "Item                        object\n",
       "Quantity                   float64\n",
       "Price Per Unit             float64\n",
       "Total Purchase             float64\n",
       "Payment Method              object\n",
       "Location                    object\n",
       "Transaction Date    datetime64[ns]\n",
       "dtype: object"
      ]
     },
     "execution_count": 71,
     "metadata": {},
     "output_type": "execute_result"
    }
   ],
   "source": [
    "# Converting the appropiate columns from string to numeric\n",
    "df['Price Per Unit'] = pd.to_numeric(df['Price Per Unit'], errors='coerce')\n",
    "df['Quantity'] = pd.to_numeric(df['Quantity'],errors='coerce')\n",
    "df['Total Purchase'] = pd.to_numeric(df['Total Purchase'],errors='coerce')\n",
    "\n",
    "# Checking for the data types\n",
    "df.dtypes"
   ]
  },
  {
   "cell_type": "code",
   "execution_count": 72,
   "id": "4da1601d",
   "metadata": {},
   "outputs": [
    {
     "data": {
      "text/plain": [
       "Item                 333\n",
       "Quantity             479\n",
       "Price Per Unit       533\n",
       "Total Purchase       502\n",
       "Payment Method      2579\n",
       "Location            3265\n",
       "Transaction Date     460\n",
       "dtype: int64"
      ]
     },
     "execution_count": 72,
     "metadata": {},
     "output_type": "execute_result"
    }
   ],
   "source": [
    "# Checking missing values in each column\n",
    "df.isna().sum()"
   ]
  },
  {
   "cell_type": "code",
   "execution_count": null,
   "id": "e3a1c134",
   "metadata": {},
   "outputs": [],
   "source": [
    "# Converting the ERROR and UNKNOWN to NaN values\n",
    "import numpy as np\n",
    "\n",
    "df = df.replace(\n",
    "    to_replace=r'(?i)^\\s*(ERROR|UNKNOWN)\\s*$',\n",
    "    value=np.nan,\n",
    "    regex=True\n",
    ")"
   ]
  },
  {
   "cell_type": "code",
   "execution_count": null,
   "id": "3e741562",
   "metadata": {},
   "outputs": [
    {
     "data": {
      "text/plain": [
       "Item                 969\n",
       "Quantity             479\n",
       "Price Per Unit       533\n",
       "Total Purchase       502\n",
       "Payment Method      3178\n",
       "Location            3961\n",
       "Transaction Date     460\n",
       "dtype: int64"
      ]
     },
     "execution_count": 74,
     "metadata": {},
     "output_type": "execute_result"
    }
   ],
   "source": [
    "# Rechecking the NaN values \n",
    "df.isna().sum()"
   ]
  },
  {
   "cell_type": "markdown",
   "id": "e5e4fdbf",
   "metadata": {},
   "source": [
    "#### Filling up the common NaN values"
   ]
  },
  {
   "cell_type": "code",
   "execution_count": null,
   "id": "fab89295",
   "metadata": {},
   "outputs": [],
   "source": [
    "# Filling the NaN value of Total Purchase\n",
    "rows = df['Total Purchase'].isna() & df['Quantity'].notna() & df['Price Per Unit'].notna()\n",
    "df.loc[rows,'Total Purchase'] = df.loc[rows,'Quantity'] * df.loc[rows,'Price Per Unit']"
   ]
  },
  {
   "cell_type": "code",
   "execution_count": null,
   "id": "7bb3b3c0",
   "metadata": {},
   "outputs": [],
   "source": [
    "# Filling the NaN values of Price Per Unit\n",
    "rows = df['Price Per Unit'].isna() & df['Total Purchase'].notna() & df['Quantity'].notna()\n",
    "df.loc[rows,'Price Per Unit'] = df.loc[rows,'Total Purchase'] / df.loc[rows,'Quantity']"
   ]
  },
  {
   "cell_type": "code",
   "execution_count": null,
   "id": "7766bb5a",
   "metadata": {},
   "outputs": [],
   "source": [
    "# Filling the Nan Values of Quantity\n",
    "rows = df['Quantity'].isna() & df['Price Per Unit'].notna() & df['Total Purchase'].notna()\n",
    "df.loc[rows,'Quantity'] = df.loc[rows,'Total Purchase'] / df.loc[rows,'Price Per Unit']"
   ]
  },
  {
   "cell_type": "code",
   "execution_count": null,
   "id": "c4161e6d",
   "metadata": {},
   "outputs": [
    {
     "name": "stdout",
     "output_type": "stream",
     "text": [
      "NaN in Total Purchase: 40\n",
      "NaN in Quantity: 38\n",
      "NaN in Price Per Unit: 38\n"
     ]
    }
   ],
   "source": [
    "# Checking for remaining NaN values after filling\n",
    "print(f\"NaN in Total Purchase: {df['Total Purchase'].isna().sum()}\")\n",
    "print(f\"NaN in Quantity: {df['Quantity'].isna().sum()}\")\n",
    "print(f\"NaN in Price Per Unit: {df['Price Per Unit'].isna().sum()}\")"
   ]
  },
  {
   "cell_type": "markdown",
   "id": "a6b8c520",
   "metadata": {},
   "source": [
    "#### Filling up the Item NaN values"
   ]
  },
  {
   "cell_type": "code",
   "execution_count": null,
   "id": "5dd41347",
   "metadata": {},
   "outputs": [
    {
     "data": {
      "text/html": [
       "<div>\n",
       "<style scoped>\n",
       "    .dataframe tbody tr th:only-of-type {\n",
       "        vertical-align: middle;\n",
       "    }\n",
       "\n",
       "    .dataframe tbody tr th {\n",
       "        vertical-align: top;\n",
       "    }\n",
       "\n",
       "    .dataframe thead th {\n",
       "        text-align: right;\n",
       "    }\n",
       "</style>\n",
       "<table border=\"1\" class=\"dataframe\">\n",
       "  <thead>\n",
       "    <tr style=\"text-align: right;\">\n",
       "      <th></th>\n",
       "      <th>Item</th>\n",
       "      <th>Price Per Unit</th>\n",
       "      <th>Count</th>\n",
       "    </tr>\n",
       "  </thead>\n",
       "  <tbody>\n",
       "    <tr>\n",
       "      <th>3</th>\n",
       "      <td>Juice</td>\n",
       "      <td>3.0</td>\n",
       "      <td>1170</td>\n",
       "    </tr>\n",
       "    <tr>\n",
       "      <th>1</th>\n",
       "      <td>Coffee</td>\n",
       "      <td>2.0</td>\n",
       "      <td>1163</td>\n",
       "    </tr>\n",
       "    <tr>\n",
       "      <th>4</th>\n",
       "      <td>Salad</td>\n",
       "      <td>5.0</td>\n",
       "      <td>1146</td>\n",
       "    </tr>\n",
       "    <tr>\n",
       "      <th>0</th>\n",
       "      <td>Cake</td>\n",
       "      <td>3.0</td>\n",
       "      <td>1135</td>\n",
       "    </tr>\n",
       "    <tr>\n",
       "      <th>5</th>\n",
       "      <td>Sandwich</td>\n",
       "      <td>4.0</td>\n",
       "      <td>1126</td>\n",
       "    </tr>\n",
       "    <tr>\n",
       "      <th>6</th>\n",
       "      <td>Smoothie</td>\n",
       "      <td>4.0</td>\n",
       "      <td>1091</td>\n",
       "    </tr>\n",
       "    <tr>\n",
       "      <th>2</th>\n",
       "      <td>Cookie</td>\n",
       "      <td>1.0</td>\n",
       "      <td>1086</td>\n",
       "    </tr>\n",
       "    <tr>\n",
       "      <th>7</th>\n",
       "      <td>Tea</td>\n",
       "      <td>1.5</td>\n",
       "      <td>1082</td>\n",
       "    </tr>\n",
       "  </tbody>\n",
       "</table>\n",
       "</div>"
      ],
      "text/plain": [
       "       Item  Price Per Unit  Count\n",
       "3     Juice             3.0   1170\n",
       "1    Coffee             2.0   1163\n",
       "4     Salad             5.0   1146\n",
       "0      Cake             3.0   1135\n",
       "5  Sandwich             4.0   1126\n",
       "6  Smoothie             4.0   1091\n",
       "2    Cookie             1.0   1086\n",
       "7       Tea             1.5   1082"
      ]
     },
     "execution_count": 80,
     "metadata": {},
     "output_type": "execute_result"
    }
   ],
   "source": [
    "# checking for Items along with there individual prices\n",
    "df.groupby(['Item','Price Per Unit']).size().reset_index(name='Count').sort_values('Count',ascending=False)\n"
   ]
  },
  {
   "cell_type": "code",
   "execution_count": null,
   "id": "84d91e2d",
   "metadata": {},
   "outputs": [
    {
     "name": "stdout",
     "output_type": "stream",
     "text": [
      "The Total NaN in 969\n"
     ]
    }
   ],
   "source": [
    "# Checking for total no. of NaN in Item\n",
    "print(f\"The Total NaN in {df['Item'].isna().sum()}\")"
   ]
  },
  {
   "cell_type": "code",
   "execution_count": null,
   "id": "363cb8d1",
   "metadata": {},
   "outputs": [],
   "source": [
    "# Filling up the missing item's as per there prices\n",
    "df.loc[df['Item'].isna() & (df['Price Per Unit'] == 2.0),'Item'] = 'Coffee'\n",
    "df.loc[df['Item'].isna() & (df['Price Per Unit'] == 5.0),'Item'] = 'Salad'\n",
    "df.loc[df['Item'].isna() & (df['Price Per Unit'] == 1.0),'Item'] = 'Cookie'\n",
    "df.loc[df['Item'].isna() & (df['Price Per Unit'] == 1.5), 'Item'] = 'Tea'"
   ]
  },
  {
   "cell_type": "code",
   "execution_count": null,
   "id": "293a8a2a",
   "metadata": {},
   "outputs": [
    {
     "data": {
      "text/html": [
       "<div>\n",
       "<style scoped>\n",
       "    .dataframe tbody tr th:only-of-type {\n",
       "        vertical-align: middle;\n",
       "    }\n",
       "\n",
       "    .dataframe tbody tr th {\n",
       "        vertical-align: top;\n",
       "    }\n",
       "\n",
       "    .dataframe thead th {\n",
       "        text-align: right;\n",
       "    }\n",
       "</style>\n",
       "<table border=\"1\" class=\"dataframe\">\n",
       "  <thead>\n",
       "    <tr style=\"text-align: right;\">\n",
       "      <th></th>\n",
       "      <th>Item</th>\n",
       "      <th>Price Per Unit</th>\n",
       "      <th>Count</th>\n",
       "    </tr>\n",
       "  </thead>\n",
       "  <tbody>\n",
       "    <tr>\n",
       "      <th>1</th>\n",
       "      <td>Coffee</td>\n",
       "      <td>2.0</td>\n",
       "      <td>1289</td>\n",
       "    </tr>\n",
       "    <tr>\n",
       "      <th>4</th>\n",
       "      <td>Salad</td>\n",
       "      <td>5.0</td>\n",
       "      <td>1270</td>\n",
       "    </tr>\n",
       "    <tr>\n",
       "      <th>2</th>\n",
       "      <td>Cookie</td>\n",
       "      <td>1.0</td>\n",
       "      <td>1207</td>\n",
       "    </tr>\n",
       "    <tr>\n",
       "      <th>7</th>\n",
       "      <td>Tea</td>\n",
       "      <td>1.5</td>\n",
       "      <td>1200</td>\n",
       "    </tr>\n",
       "    <tr>\n",
       "      <th>3</th>\n",
       "      <td>Juice</td>\n",
       "      <td>3.0</td>\n",
       "      <td>1170</td>\n",
       "    </tr>\n",
       "    <tr>\n",
       "      <th>0</th>\n",
       "      <td>Cake</td>\n",
       "      <td>3.0</td>\n",
       "      <td>1135</td>\n",
       "    </tr>\n",
       "    <tr>\n",
       "      <th>5</th>\n",
       "      <td>Sandwich</td>\n",
       "      <td>4.0</td>\n",
       "      <td>1126</td>\n",
       "    </tr>\n",
       "    <tr>\n",
       "      <th>6</th>\n",
       "      <td>Smoothie</td>\n",
       "      <td>4.0</td>\n",
       "      <td>1091</td>\n",
       "    </tr>\n",
       "  </tbody>\n",
       "</table>\n",
       "</div>"
      ],
      "text/plain": [
       "       Item  Price Per Unit  Count\n",
       "1    Coffee             2.0   1289\n",
       "4     Salad             5.0   1270\n",
       "2    Cookie             1.0   1207\n",
       "7       Tea             1.5   1200\n",
       "3     Juice             3.0   1170\n",
       "0      Cake             3.0   1135\n",
       "5  Sandwich             4.0   1126\n",
       "6  Smoothie             4.0   1091"
      ]
     },
     "execution_count": 83,
     "metadata": {},
     "output_type": "execute_result"
    }
   ],
   "source": [
    "# Rechecking the missing values in Item again \n",
    "df.groupby(['Item','Price Per Unit']).size().reset_index(name=\"Count\").sort_values('Count',ascending=False)"
   ]
  },
  {
   "cell_type": "code",
   "execution_count": 84,
   "id": "9678a02a",
   "metadata": {},
   "outputs": [
    {
     "name": "stdout",
     "output_type": "stream",
     "text": [
      "The Total NaN values in Item: 480\n"
     ]
    }
   ],
   "source": [
    "print(f\"The Total NaN values in Item: {df['Item'].isna().sum()}\")"
   ]
  },
  {
   "cell_type": "markdown",
   "id": "526495aa",
   "metadata": {},
   "source": [
    "### Filling the NaN values for price per unit - 4.0"
   ]
  },
  {
   "cell_type": "code",
   "execution_count": null,
   "id": "1efab32a",
   "metadata": {},
   "outputs": [],
   "source": [
    "# Filtering Out the Item which have price per unit - 4.0\n",
    "known = (\n",
    "    df[\"Item\"].isin([\"Smoothie\",\"Sandwich\"]) \n",
    "    & \n",
    "    df[\"Location\"].isin([\"In-store\",\"Takeaway\"])\n",
    "    &\n",
    "    df[\"Payment Method\"].isin([\"Credit Card\",\"Cash\",\"Digital Wallet\"])  \n",
    "    )\n",
    "\n",
    "\n",
    "grouped = df[known].groupby(['Item','Location','Payment Method']).size().reset_index(name='Count').sort_values(['Location','Payment Method'],ascending=[False,True])"
   ]
  },
  {
   "cell_type": "code",
   "execution_count": null,
   "id": "2c682979",
   "metadata": {},
   "outputs": [
    {
     "data": {
      "text/html": [
       "<div>\n",
       "<style scoped>\n",
       "    .dataframe tbody tr th:only-of-type {\n",
       "        vertical-align: middle;\n",
       "    }\n",
       "\n",
       "    .dataframe tbody tr th {\n",
       "        vertical-align: top;\n",
       "    }\n",
       "\n",
       "    .dataframe thead th {\n",
       "        text-align: right;\n",
       "    }\n",
       "</style>\n",
       "<table border=\"1\" class=\"dataframe\">\n",
       "  <thead>\n",
       "    <tr style=\"text-align: right;\">\n",
       "      <th></th>\n",
       "      <th>Item</th>\n",
       "      <th>Location</th>\n",
       "      <th>Payment Method</th>\n",
       "      <th>Count</th>\n",
       "      <th>Probability</th>\n",
       "    </tr>\n",
       "  </thead>\n",
       "  <tbody>\n",
       "    <tr>\n",
       "      <th>3</th>\n",
       "      <td>Sandwich</td>\n",
       "      <td>Takeaway</td>\n",
       "      <td>Cash</td>\n",
       "      <td>83</td>\n",
       "      <td>0.614815</td>\n",
       "    </tr>\n",
       "    <tr>\n",
       "      <th>9</th>\n",
       "      <td>Smoothie</td>\n",
       "      <td>Takeaway</td>\n",
       "      <td>Cash</td>\n",
       "      <td>52</td>\n",
       "      <td>0.385185</td>\n",
       "    </tr>\n",
       "    <tr>\n",
       "      <th>4</th>\n",
       "      <td>Sandwich</td>\n",
       "      <td>Takeaway</td>\n",
       "      <td>Credit Card</td>\n",
       "      <td>71</td>\n",
       "      <td>0.486301</td>\n",
       "    </tr>\n",
       "    <tr>\n",
       "      <th>10</th>\n",
       "      <td>Smoothie</td>\n",
       "      <td>Takeaway</td>\n",
       "      <td>Credit Card</td>\n",
       "      <td>75</td>\n",
       "      <td>0.513699</td>\n",
       "    </tr>\n",
       "    <tr>\n",
       "      <th>5</th>\n",
       "      <td>Sandwich</td>\n",
       "      <td>Takeaway</td>\n",
       "      <td>Digital Wallet</td>\n",
       "      <td>86</td>\n",
       "      <td>0.530864</td>\n",
       "    </tr>\n",
       "    <tr>\n",
       "      <th>11</th>\n",
       "      <td>Smoothie</td>\n",
       "      <td>Takeaway</td>\n",
       "      <td>Digital Wallet</td>\n",
       "      <td>76</td>\n",
       "      <td>0.469136</td>\n",
       "    </tr>\n",
       "    <tr>\n",
       "      <th>0</th>\n",
       "      <td>Sandwich</td>\n",
       "      <td>In-store</td>\n",
       "      <td>Cash</td>\n",
       "      <td>82</td>\n",
       "      <td>0.535948</td>\n",
       "    </tr>\n",
       "    <tr>\n",
       "      <th>6</th>\n",
       "      <td>Smoothie</td>\n",
       "      <td>In-store</td>\n",
       "      <td>Cash</td>\n",
       "      <td>71</td>\n",
       "      <td>0.464052</td>\n",
       "    </tr>\n",
       "    <tr>\n",
       "      <th>1</th>\n",
       "      <td>Sandwich</td>\n",
       "      <td>In-store</td>\n",
       "      <td>Credit Card</td>\n",
       "      <td>77</td>\n",
       "      <td>0.546099</td>\n",
       "    </tr>\n",
       "    <tr>\n",
       "      <th>7</th>\n",
       "      <td>Smoothie</td>\n",
       "      <td>In-store</td>\n",
       "      <td>Credit Card</td>\n",
       "      <td>64</td>\n",
       "      <td>0.453901</td>\n",
       "    </tr>\n",
       "    <tr>\n",
       "      <th>2</th>\n",
       "      <td>Sandwich</td>\n",
       "      <td>In-store</td>\n",
       "      <td>Digital Wallet</td>\n",
       "      <td>88</td>\n",
       "      <td>0.536585</td>\n",
       "    </tr>\n",
       "    <tr>\n",
       "      <th>8</th>\n",
       "      <td>Smoothie</td>\n",
       "      <td>In-store</td>\n",
       "      <td>Digital Wallet</td>\n",
       "      <td>76</td>\n",
       "      <td>0.463415</td>\n",
       "    </tr>\n",
       "  </tbody>\n",
       "</table>\n",
       "</div>"
      ],
      "text/plain": [
       "        Item  Location  Payment Method  Count  Probability\n",
       "3   Sandwich  Takeaway            Cash     83     0.614815\n",
       "9   Smoothie  Takeaway            Cash     52     0.385185\n",
       "4   Sandwich  Takeaway     Credit Card     71     0.486301\n",
       "10  Smoothie  Takeaway     Credit Card     75     0.513699\n",
       "5   Sandwich  Takeaway  Digital Wallet     86     0.530864\n",
       "11  Smoothie  Takeaway  Digital Wallet     76     0.469136\n",
       "0   Sandwich  In-store            Cash     82     0.535948\n",
       "6   Smoothie  In-store            Cash     71     0.464052\n",
       "1   Sandwich  In-store     Credit Card     77     0.546099\n",
       "7   Smoothie  In-store     Credit Card     64     0.453901\n",
       "2   Sandwich  In-store  Digital Wallet     88     0.536585\n",
       "8   Smoothie  In-store  Digital Wallet     76     0.463415"
      ]
     },
     "execution_count": 86,
     "metadata": {},
     "output_type": "execute_result"
    }
   ],
   "source": [
    "# Counting the Probability count of having sandwich or smotthie in missing item for price unit 4.0\n",
    "total_count = grouped.groupby(['Location','Payment Method'])['Count'].transform(\"sum\")\n",
    "grouped['Probability'] = grouped['Count']/total_count\n",
    "\n",
    "grouped"
   ]
  },
  {
   "cell_type": "code",
   "execution_count": null,
   "id": "bf06fe3a",
   "metadata": {},
   "outputs": [
    {
     "data": {
      "text/plain": [
       "Location  Payment Method\n",
       "In-store  Cash              Sandwich\n",
       "          Credit Card       Sandwich\n",
       "          Digital Wallet    Sandwich\n",
       "Takeaway  Cash              Sandwich\n",
       "          Credit Card       Smoothie\n",
       "          Digital Wallet    Sandwich\n",
       "Name: Item, dtype: object"
      ]
     },
     "execution_count": 87,
     "metadata": {},
     "output_type": "execute_result"
    }
   ],
   "source": [
    "# Building A Look Up Table based on probability\n",
    "\n",
    "most_likely = (\n",
    "    grouped\n",
    "    .sort_values(['Location','Payment Method','Probability'],ascending=[True,True,False])\n",
    "    .drop_duplicates(subset=['Location','Payment Method'])\n",
    "    .set_index(['Location','Payment Method'])['Item']\n",
    ")\n",
    "\n",
    "most_likely"
   ]
  },
  {
   "cell_type": "code",
   "execution_count": 88,
   "id": "8920d458",
   "metadata": {},
   "outputs": [
    {
     "data": {
      "text/html": [
       "<div>\n",
       "<style scoped>\n",
       "    .dataframe tbody tr th:only-of-type {\n",
       "        vertical-align: middle;\n",
       "    }\n",
       "\n",
       "    .dataframe tbody tr th {\n",
       "        vertical-align: top;\n",
       "    }\n",
       "\n",
       "    .dataframe thead th {\n",
       "        text-align: right;\n",
       "    }\n",
       "</style>\n",
       "<table border=\"1\" class=\"dataframe\">\n",
       "  <thead>\n",
       "    <tr style=\"text-align: right;\">\n",
       "      <th></th>\n",
       "      <th>Location</th>\n",
       "      <th>Payment Method</th>\n",
       "      <th>Guessed Item</th>\n",
       "    </tr>\n",
       "  </thead>\n",
       "  <tbody>\n",
       "    <tr>\n",
       "      <th>0</th>\n",
       "      <td>In-store</td>\n",
       "      <td>Cash</td>\n",
       "      <td>Sandwich</td>\n",
       "    </tr>\n",
       "    <tr>\n",
       "      <th>1</th>\n",
       "      <td>In-store</td>\n",
       "      <td>Credit Card</td>\n",
       "      <td>Sandwich</td>\n",
       "    </tr>\n",
       "    <tr>\n",
       "      <th>2</th>\n",
       "      <td>In-store</td>\n",
       "      <td>Digital Wallet</td>\n",
       "      <td>Sandwich</td>\n",
       "    </tr>\n",
       "    <tr>\n",
       "      <th>3</th>\n",
       "      <td>Takeaway</td>\n",
       "      <td>Cash</td>\n",
       "      <td>Sandwich</td>\n",
       "    </tr>\n",
       "    <tr>\n",
       "      <th>4</th>\n",
       "      <td>Takeaway</td>\n",
       "      <td>Credit Card</td>\n",
       "      <td>Smoothie</td>\n",
       "    </tr>\n",
       "    <tr>\n",
       "      <th>5</th>\n",
       "      <td>Takeaway</td>\n",
       "      <td>Digital Wallet</td>\n",
       "      <td>Sandwich</td>\n",
       "    </tr>\n",
       "  </tbody>\n",
       "</table>\n",
       "</div>"
      ],
      "text/plain": [
       "   Location  Payment Method Guessed Item\n",
       "0  In-store            Cash     Sandwich\n",
       "1  In-store     Credit Card     Sandwich\n",
       "2  In-store  Digital Wallet     Sandwich\n",
       "3  Takeaway            Cash     Sandwich\n",
       "4  Takeaway     Credit Card     Smoothie\n",
       "5  Takeaway  Digital Wallet     Sandwich"
      ]
     },
     "execution_count": 88,
     "metadata": {},
     "output_type": "execute_result"
    }
   ],
   "source": [
    "# Resetting the Index and Rename Columns - (mainly to convert the series into a data_frame for merging)\n",
    "\n",
    "lookup_df = most_likely.reset_index()\n",
    "lookup_df.columns = ['Location','Payment Method','Guessed Item']\n",
    "\n",
    "lookup_df"
   ]
  },
  {
   "cell_type": "code",
   "execution_count": 89,
   "id": "6b4031ed",
   "metadata": {},
   "outputs": [],
   "source": [
    "# Extracting the rows where we want to fill\n",
    "\n",
    "mask = df['Item'].isna() & (df['Price Per Unit']==4.0)\n",
    "to_fill = df[mask].copy()"
   ]
  },
  {
   "cell_type": "code",
   "execution_count": 90,
   "id": "137516b3",
   "metadata": {},
   "outputs": [],
   "source": [
    "# Merging with the Lookup Table\n",
    "\n",
    "filled = to_fill.merge(lookup_df, on=['Payment Method','Location'], how='left')\n",
    "df.loc[mask,'Item'] = filled['Guessed Item'].values"
   ]
  },
  {
   "cell_type": "code",
   "execution_count": 91,
   "id": "ec42299d",
   "metadata": {},
   "outputs": [
    {
     "name": "stdout",
     "output_type": "stream",
     "text": [
      "The Total NaN values in Item: 386\n"
     ]
    }
   ],
   "source": [
    "print(f\"The Total NaN values in Item: {df['Item'].isna().sum()}\")"
   ]
  },
  {
   "cell_type": "markdown",
   "id": "81fc68f4",
   "metadata": {},
   "source": [
    "#### Filling the NaN values for Price per unit - 3.0"
   ]
  },
  {
   "cell_type": "code",
   "execution_count": 92,
   "id": "ef41769f",
   "metadata": {},
   "outputs": [
    {
     "data": {
      "text/html": [
       "<div>\n",
       "<style scoped>\n",
       "    .dataframe tbody tr th:only-of-type {\n",
       "        vertical-align: middle;\n",
       "    }\n",
       "\n",
       "    .dataframe tbody tr th {\n",
       "        vertical-align: top;\n",
       "    }\n",
       "\n",
       "    .dataframe thead th {\n",
       "        text-align: right;\n",
       "    }\n",
       "</style>\n",
       "<table border=\"1\" class=\"dataframe\">\n",
       "  <thead>\n",
       "    <tr style=\"text-align: right;\">\n",
       "      <th></th>\n",
       "      <th>Item</th>\n",
       "      <th>Location</th>\n",
       "      <th>Payment Method</th>\n",
       "      <th>Count</th>\n",
       "    </tr>\n",
       "  </thead>\n",
       "  <tbody>\n",
       "    <tr>\n",
       "      <th>3</th>\n",
       "      <td>Cake</td>\n",
       "      <td>Takeaway</td>\n",
       "      <td>Cash</td>\n",
       "      <td>83</td>\n",
       "    </tr>\n",
       "    <tr>\n",
       "      <th>9</th>\n",
       "      <td>Juice</td>\n",
       "      <td>Takeaway</td>\n",
       "      <td>Cash</td>\n",
       "      <td>79</td>\n",
       "    </tr>\n",
       "    <tr>\n",
       "      <th>4</th>\n",
       "      <td>Cake</td>\n",
       "      <td>Takeaway</td>\n",
       "      <td>Credit Card</td>\n",
       "      <td>86</td>\n",
       "    </tr>\n",
       "    <tr>\n",
       "      <th>10</th>\n",
       "      <td>Juice</td>\n",
       "      <td>Takeaway</td>\n",
       "      <td>Credit Card</td>\n",
       "      <td>74</td>\n",
       "    </tr>\n",
       "    <tr>\n",
       "      <th>5</th>\n",
       "      <td>Cake</td>\n",
       "      <td>Takeaway</td>\n",
       "      <td>Digital Wallet</td>\n",
       "      <td>70</td>\n",
       "    </tr>\n",
       "    <tr>\n",
       "      <th>11</th>\n",
       "      <td>Juice</td>\n",
       "      <td>Takeaway</td>\n",
       "      <td>Digital Wallet</td>\n",
       "      <td>90</td>\n",
       "    </tr>\n",
       "    <tr>\n",
       "      <th>0</th>\n",
       "      <td>Cake</td>\n",
       "      <td>In-store</td>\n",
       "      <td>Cash</td>\n",
       "      <td>83</td>\n",
       "    </tr>\n",
       "    <tr>\n",
       "      <th>6</th>\n",
       "      <td>Juice</td>\n",
       "      <td>In-store</td>\n",
       "      <td>Cash</td>\n",
       "      <td>87</td>\n",
       "    </tr>\n",
       "    <tr>\n",
       "      <th>1</th>\n",
       "      <td>Cake</td>\n",
       "      <td>In-store</td>\n",
       "      <td>Credit Card</td>\n",
       "      <td>61</td>\n",
       "    </tr>\n",
       "    <tr>\n",
       "      <th>7</th>\n",
       "      <td>Juice</td>\n",
       "      <td>In-store</td>\n",
       "      <td>Credit Card</td>\n",
       "      <td>77</td>\n",
       "    </tr>\n",
       "    <tr>\n",
       "      <th>2</th>\n",
       "      <td>Cake</td>\n",
       "      <td>In-store</td>\n",
       "      <td>Digital Wallet</td>\n",
       "      <td>76</td>\n",
       "    </tr>\n",
       "    <tr>\n",
       "      <th>8</th>\n",
       "      <td>Juice</td>\n",
       "      <td>In-store</td>\n",
       "      <td>Digital Wallet</td>\n",
       "      <td>92</td>\n",
       "    </tr>\n",
       "  </tbody>\n",
       "</table>\n",
       "</div>"
      ],
      "text/plain": [
       "     Item  Location  Payment Method  Count\n",
       "3    Cake  Takeaway            Cash     83\n",
       "9   Juice  Takeaway            Cash     79\n",
       "4    Cake  Takeaway     Credit Card     86\n",
       "10  Juice  Takeaway     Credit Card     74\n",
       "5    Cake  Takeaway  Digital Wallet     70\n",
       "11  Juice  Takeaway  Digital Wallet     90\n",
       "0    Cake  In-store            Cash     83\n",
       "6   Juice  In-store            Cash     87\n",
       "1    Cake  In-store     Credit Card     61\n",
       "7   Juice  In-store     Credit Card     77\n",
       "2    Cake  In-store  Digital Wallet     76\n",
       "8   Juice  In-store  Digital Wallet     92"
      ]
     },
     "execution_count": 92,
     "metadata": {},
     "output_type": "execute_result"
    }
   ],
   "source": [
    "# Filtering Out - Juice and Cake \n",
    "known1 = (\n",
    "    df['Item'].isin(['Juice','Cake'])\n",
    "    &\n",
    "    df['Location'].isin(['In-store','Takeaway'])\n",
    "    &\n",
    "    df['Payment Method'].isin(['Cash','Credit Card','Digital Wallet'])\n",
    "    )\n",
    "\n",
    "grouped1 = df[known1].groupby(['Item','Location','Payment Method']).size().reset_index(name='Count').sort_values(['Location','Payment Method'], ascending=[False,True])\n",
    "\n",
    "grouped1"
   ]
  },
  {
   "cell_type": "code",
   "execution_count": 93,
   "id": "15e564d9",
   "metadata": {},
   "outputs": [
    {
     "data": {
      "text/html": [
       "<div>\n",
       "<style scoped>\n",
       "    .dataframe tbody tr th:only-of-type {\n",
       "        vertical-align: middle;\n",
       "    }\n",
       "\n",
       "    .dataframe tbody tr th {\n",
       "        vertical-align: top;\n",
       "    }\n",
       "\n",
       "    .dataframe thead th {\n",
       "        text-align: right;\n",
       "    }\n",
       "</style>\n",
       "<table border=\"1\" class=\"dataframe\">\n",
       "  <thead>\n",
       "    <tr style=\"text-align: right;\">\n",
       "      <th></th>\n",
       "      <th>Item</th>\n",
       "      <th>Location</th>\n",
       "      <th>Payment Method</th>\n",
       "      <th>Count</th>\n",
       "      <th>Probability</th>\n",
       "    </tr>\n",
       "  </thead>\n",
       "  <tbody>\n",
       "    <tr>\n",
       "      <th>3</th>\n",
       "      <td>Cake</td>\n",
       "      <td>Takeaway</td>\n",
       "      <td>Cash</td>\n",
       "      <td>83</td>\n",
       "      <td>0.512346</td>\n",
       "    </tr>\n",
       "    <tr>\n",
       "      <th>9</th>\n",
       "      <td>Juice</td>\n",
       "      <td>Takeaway</td>\n",
       "      <td>Cash</td>\n",
       "      <td>79</td>\n",
       "      <td>0.487654</td>\n",
       "    </tr>\n",
       "    <tr>\n",
       "      <th>4</th>\n",
       "      <td>Cake</td>\n",
       "      <td>Takeaway</td>\n",
       "      <td>Credit Card</td>\n",
       "      <td>86</td>\n",
       "      <td>0.537500</td>\n",
       "    </tr>\n",
       "    <tr>\n",
       "      <th>10</th>\n",
       "      <td>Juice</td>\n",
       "      <td>Takeaway</td>\n",
       "      <td>Credit Card</td>\n",
       "      <td>74</td>\n",
       "      <td>0.462500</td>\n",
       "    </tr>\n",
       "    <tr>\n",
       "      <th>5</th>\n",
       "      <td>Cake</td>\n",
       "      <td>Takeaway</td>\n",
       "      <td>Digital Wallet</td>\n",
       "      <td>70</td>\n",
       "      <td>0.437500</td>\n",
       "    </tr>\n",
       "    <tr>\n",
       "      <th>11</th>\n",
       "      <td>Juice</td>\n",
       "      <td>Takeaway</td>\n",
       "      <td>Digital Wallet</td>\n",
       "      <td>90</td>\n",
       "      <td>0.562500</td>\n",
       "    </tr>\n",
       "    <tr>\n",
       "      <th>0</th>\n",
       "      <td>Cake</td>\n",
       "      <td>In-store</td>\n",
       "      <td>Cash</td>\n",
       "      <td>83</td>\n",
       "      <td>0.488235</td>\n",
       "    </tr>\n",
       "    <tr>\n",
       "      <th>6</th>\n",
       "      <td>Juice</td>\n",
       "      <td>In-store</td>\n",
       "      <td>Cash</td>\n",
       "      <td>87</td>\n",
       "      <td>0.511765</td>\n",
       "    </tr>\n",
       "    <tr>\n",
       "      <th>1</th>\n",
       "      <td>Cake</td>\n",
       "      <td>In-store</td>\n",
       "      <td>Credit Card</td>\n",
       "      <td>61</td>\n",
       "      <td>0.442029</td>\n",
       "    </tr>\n",
       "    <tr>\n",
       "      <th>7</th>\n",
       "      <td>Juice</td>\n",
       "      <td>In-store</td>\n",
       "      <td>Credit Card</td>\n",
       "      <td>77</td>\n",
       "      <td>0.557971</td>\n",
       "    </tr>\n",
       "    <tr>\n",
       "      <th>2</th>\n",
       "      <td>Cake</td>\n",
       "      <td>In-store</td>\n",
       "      <td>Digital Wallet</td>\n",
       "      <td>76</td>\n",
       "      <td>0.452381</td>\n",
       "    </tr>\n",
       "    <tr>\n",
       "      <th>8</th>\n",
       "      <td>Juice</td>\n",
       "      <td>In-store</td>\n",
       "      <td>Digital Wallet</td>\n",
       "      <td>92</td>\n",
       "      <td>0.547619</td>\n",
       "    </tr>\n",
       "  </tbody>\n",
       "</table>\n",
       "</div>"
      ],
      "text/plain": [
       "     Item  Location  Payment Method  Count  Probability\n",
       "3    Cake  Takeaway            Cash     83     0.512346\n",
       "9   Juice  Takeaway            Cash     79     0.487654\n",
       "4    Cake  Takeaway     Credit Card     86     0.537500\n",
       "10  Juice  Takeaway     Credit Card     74     0.462500\n",
       "5    Cake  Takeaway  Digital Wallet     70     0.437500\n",
       "11  Juice  Takeaway  Digital Wallet     90     0.562500\n",
       "0    Cake  In-store            Cash     83     0.488235\n",
       "6   Juice  In-store            Cash     87     0.511765\n",
       "1    Cake  In-store     Credit Card     61     0.442029\n",
       "7   Juice  In-store     Credit Card     77     0.557971\n",
       "2    Cake  In-store  Digital Wallet     76     0.452381\n",
       "8   Juice  In-store  Digital Wallet     92     0.547619"
      ]
     },
     "execution_count": 93,
     "metadata": {},
     "output_type": "execute_result"
    }
   ],
   "source": [
    "# Counting the Probability\n",
    "total_count = grouped1.groupby(['Location','Payment Method'])['Count'].transform('sum')\n",
    "grouped1['Probability'] = grouped1['Count']/total_count\n",
    "\n",
    "grouped1"
   ]
  },
  {
   "cell_type": "code",
   "execution_count": 94,
   "id": "625baf34",
   "metadata": {},
   "outputs": [
    {
     "data": {
      "text/plain": [
       "Location  Payment Method\n",
       "In-store  Cash              Juice\n",
       "          Credit Card       Juice\n",
       "          Digital Wallet    Juice\n",
       "Takeaway  Cash               Cake\n",
       "          Credit Card        Cake\n",
       "          Digital Wallet    Juice\n",
       "Name: Item, dtype: object"
      ]
     },
     "execution_count": 94,
     "metadata": {},
     "output_type": "execute_result"
    }
   ],
   "source": [
    "# Lookup Table\n",
    "most_likely = (\n",
    "    grouped1\n",
    "    .sort_values(['Location','Payment Method','Probability'],ascending=[True,True,False])\n",
    "    .drop_duplicates(subset=['Location','Payment Method'])\n",
    "    .set_index([\"Location\",'Payment Method'])['Item']\n",
    ")\n",
    "most_likely"
   ]
  },
  {
   "cell_type": "code",
   "execution_count": 95,
   "id": "d2885edd",
   "metadata": {},
   "outputs": [
    {
     "data": {
      "text/html": [
       "<div>\n",
       "<style scoped>\n",
       "    .dataframe tbody tr th:only-of-type {\n",
       "        vertical-align: middle;\n",
       "    }\n",
       "\n",
       "    .dataframe tbody tr th {\n",
       "        vertical-align: top;\n",
       "    }\n",
       "\n",
       "    .dataframe thead th {\n",
       "        text-align: right;\n",
       "    }\n",
       "</style>\n",
       "<table border=\"1\" class=\"dataframe\">\n",
       "  <thead>\n",
       "    <tr style=\"text-align: right;\">\n",
       "      <th></th>\n",
       "      <th>Location</th>\n",
       "      <th>Payment Method</th>\n",
       "      <th>Guessed Item</th>\n",
       "    </tr>\n",
       "  </thead>\n",
       "  <tbody>\n",
       "    <tr>\n",
       "      <th>0</th>\n",
       "      <td>In-store</td>\n",
       "      <td>Cash</td>\n",
       "      <td>Juice</td>\n",
       "    </tr>\n",
       "    <tr>\n",
       "      <th>1</th>\n",
       "      <td>In-store</td>\n",
       "      <td>Credit Card</td>\n",
       "      <td>Juice</td>\n",
       "    </tr>\n",
       "    <tr>\n",
       "      <th>2</th>\n",
       "      <td>In-store</td>\n",
       "      <td>Digital Wallet</td>\n",
       "      <td>Juice</td>\n",
       "    </tr>\n",
       "    <tr>\n",
       "      <th>3</th>\n",
       "      <td>Takeaway</td>\n",
       "      <td>Cash</td>\n",
       "      <td>Cake</td>\n",
       "    </tr>\n",
       "    <tr>\n",
       "      <th>4</th>\n",
       "      <td>Takeaway</td>\n",
       "      <td>Credit Card</td>\n",
       "      <td>Cake</td>\n",
       "    </tr>\n",
       "    <tr>\n",
       "      <th>5</th>\n",
       "      <td>Takeaway</td>\n",
       "      <td>Digital Wallet</td>\n",
       "      <td>Juice</td>\n",
       "    </tr>\n",
       "  </tbody>\n",
       "</table>\n",
       "</div>"
      ],
      "text/plain": [
       "   Location  Payment Method Guessed Item\n",
       "0  In-store            Cash        Juice\n",
       "1  In-store     Credit Card        Juice\n",
       "2  In-store  Digital Wallet        Juice\n",
       "3  Takeaway            Cash         Cake\n",
       "4  Takeaway     Credit Card         Cake\n",
       "5  Takeaway  Digital Wallet        Juice"
      ]
     },
     "execution_count": 95,
     "metadata": {},
     "output_type": "execute_result"
    }
   ],
   "source": [
    "# Resetting The Index\n",
    "lookup_df = most_likely.reset_index()\n",
    "lookup_df.columns = ['Location','Payment Method','Guessed Item']\n",
    "\n",
    "lookup_df"
   ]
  },
  {
   "cell_type": "code",
   "execution_count": 96,
   "id": "531497be",
   "metadata": {},
   "outputs": [],
   "source": [
    "# Extract only the rows where we want to fill\n",
    "mask1 = df['Item'].isna() & (df['Price Per Unit']==3.0)\n",
    "to_fill1 = df[mask1].copy()\n"
   ]
  },
  {
   "cell_type": "code",
   "execution_count": 97,
   "id": "d96a5633",
   "metadata": {},
   "outputs": [],
   "source": [
    "# Merging with the Lookup Table\n",
    "filled = to_fill1.merge(lookup_df, on=['Payment Method','Location'], how='left')\n",
    "df.loc[mask1,'Item'] = filled['Guessed Item'].values"
   ]
  },
  {
   "cell_type": "code",
   "execution_count": 98,
   "id": "5eb31d3b",
   "metadata": {},
   "outputs": [
    {
     "name": "stdout",
     "output_type": "stream",
     "text": [
      "The Total NaN values in Item: 279\n"
     ]
    }
   ],
   "source": [
    "print(f\"The Total NaN values in Item: {df['Item'].isna().sum()}\")"
   ]
  },
  {
   "cell_type": "markdown",
   "id": "0182a4ea",
   "metadata": {},
   "source": [
    "##### Handling the NaN values in Payment Method"
   ]
  },
  {
   "cell_type": "code",
   "execution_count": 99,
   "id": "4339c1c8",
   "metadata": {},
   "outputs": [
    {
     "name": "stdout",
     "output_type": "stream",
     "text": [
      "Total NaN values in Payment Method: 3178\n"
     ]
    }
   ],
   "source": [
    "print(f\"Total NaN values in Payment Method: {df['Payment Method'].isna().sum()}\")"
   ]
  },
  {
   "cell_type": "code",
   "execution_count": 100,
   "id": "971b114e",
   "metadata": {},
   "outputs": [],
   "source": [
    "known_pay = (\n",
    "    df['Payment Method'].isin([\"Cash\",\"Credit Card\",\"Digital Wallet\"])\n",
    "    &\n",
    "    df[\"Location\"].isin(['In-store','Takeaway'])\n",
    "    &\n",
    "    df[\"Item\"].isin(['Coffee','Salad','Cake','Cookie','Smoothie','Sandwich','Juice','Tea'])          \n",
    "    )\n",
    "\n",
    "grouped_pay = (\n",
    "    df[known_pay].groupby(['Item','Location','Payment Method']).aggregate(Count=('Item','size'),Total_Quantity=('Quantity','sum'))\n",
    "    .reset_index()\n",
    "    .sort_values(['Item','Payment Method'],ascending=[False,False])\n",
    ")"
   ]
  },
  {
   "cell_type": "code",
   "execution_count": null,
   "id": "28c12fbf",
   "metadata": {},
   "outputs": [],
   "source": [
    "## Calculating two probabilties, one is total count and another one is based on quantity\n",
    "total_count_pay = grouped_pay.groupby(['Item','Location'])['Count'].transform('sum')\n",
    "grouped_pay['Transaction Probability'] = grouped_pay[\"Count\"]/total_count_pay\n",
    "\n",
    "total_quantity_pay = grouped_pay.groupby(['Item','Location'])['Total_Quantity'].transform('sum')\n",
    "grouped_pay[\"Quantity Probability\"] = grouped_pay['Total_Quantity']/ total_quantity_pay"
   ]
  },
  {
   "cell_type": "code",
   "execution_count": null,
   "id": "e2cc8ffc",
   "metadata": {},
   "outputs": [],
   "source": [
    "## Combining two Probabilities \n",
    "grouped_pay['Probability'] = (grouped_pay['Transaction Probability'] + grouped_pay['Quantity Probability'])/2"
   ]
  },
  {
   "cell_type": "code",
   "execution_count": 103,
   "id": "33f64f4d",
   "metadata": {},
   "outputs": [
    {
     "data": {
      "text/plain": [
       "Item      Location\n",
       "Cake      In-store              Cash\n",
       "          Takeaway       Credit Card\n",
       "Coffee    In-store       Credit Card\n",
       "          Takeaway    Digital Wallet\n",
       "Cookie    In-store       Credit Card\n",
       "          Takeaway    Digital Wallet\n",
       "Juice     In-store              Cash\n",
       "          Takeaway    Digital Wallet\n",
       "Salad     In-store              Cash\n",
       "          Takeaway       Credit Card\n",
       "Sandwich  In-store    Digital Wallet\n",
       "          Takeaway    Digital Wallet\n",
       "Smoothie  In-store    Digital Wallet\n",
       "          Takeaway       Credit Card\n",
       "Tea       In-store    Digital Wallet\n",
       "          Takeaway       Credit Card\n",
       "Name: Payment Method, dtype: object"
      ]
     },
     "execution_count": 103,
     "metadata": {},
     "output_type": "execute_result"
    }
   ],
   "source": [
    "## Lookup Table\n",
    "most_likely_pay = (\n",
    "    grouped_pay.sort_values(['Item','Location','Probability'],ascending=[True,True,False])\n",
    "    .drop_duplicates(subset=['Item','Location'])\n",
    "    .set_index([\"Item\",'Location'])['Payment Method']\n",
    ")\n",
    "\n",
    "most_likely_pay"
   ]
  },
  {
   "cell_type": "code",
   "execution_count": 104,
   "id": "a2a8d0da",
   "metadata": {},
   "outputs": [],
   "source": [
    "lookup_df_pay = most_likely_pay.reset_index()\n",
    "lookup_df_pay.columns = ['Item','Location','Guessed Payment Method']"
   ]
  },
  {
   "cell_type": "code",
   "execution_count": 105,
   "id": "05458baa",
   "metadata": {},
   "outputs": [],
   "source": [
    "mask_pay = df['Payment Method'].isna()\n",
    "to_fill_pay = df[mask_pay].copy()"
   ]
  },
  {
   "cell_type": "code",
   "execution_count": 106,
   "id": "0f54ba24",
   "metadata": {},
   "outputs": [],
   "source": [
    "filled_pay = to_fill_pay.merge(lookup_df_pay, on=['Item','Location'], how='left')\n",
    "\n",
    "df.loc[mask_pay,'Payment Method'] = filled_pay['Guessed Payment Method'].values"
   ]
  },
  {
   "cell_type": "code",
   "execution_count": 107,
   "id": "1d92f064",
   "metadata": {},
   "outputs": [
    {
     "name": "stdout",
     "output_type": "stream",
     "text": [
      "Total NaN values in Payment Method: 1380\n"
     ]
    }
   ],
   "source": [
    "print(f\"Total NaN values in Payment Method: {df['Payment Method'].isna().sum()}\")"
   ]
  },
  {
   "cell_type": "markdown",
   "id": "d99a16fc",
   "metadata": {},
   "source": [
    "#### Handling the NaN value in Location"
   ]
  },
  {
   "cell_type": "code",
   "execution_count": 108,
   "id": "07ae4530",
   "metadata": {},
   "outputs": [
    {
     "name": "stdout",
     "output_type": "stream",
     "text": [
      "The Total NaN values in Location: 3961\n"
     ]
    }
   ],
   "source": [
    "print(f'The Total NaN values in Location: {df['Location'].isna().sum()}')"
   ]
  },
  {
   "cell_type": "code",
   "execution_count": 109,
   "id": "67a1bc6a",
   "metadata": {},
   "outputs": [],
   "source": [
    "known_location = (\n",
    "    df['Location'].isin(['In-store','Takeaway'])\n",
    "    &\n",
    "    df['Payment Method'].isin(['Cash','Credit Card','Digital Wallet'])\n",
    "    &\n",
    "    df['Item'].isin(['Sandwich','Smoothie','Cake','Cookie','Salad','Coffee','Juice','Tea'])\n",
    "    )\n",
    "\n",
    "grouped_location = (\n",
    "    df[known_location].groupby(['Item','Payment Method','Location'])\n",
    "    .aggregate(\n",
    "        Count = ('Item','size'),\n",
    "        total_quantity_location = ('Quantity','sum')\n",
    "    )\n",
    "    .reset_index()\n",
    "    .sort_values(['Item','Payment Method'],ascending=[False,False])\n",
    ")"
   ]
  },
  {
   "cell_type": "code",
   "execution_count": 110,
   "id": "ed563f44",
   "metadata": {},
   "outputs": [],
   "source": [
    "total_count_location = grouped_location.groupby(['Item','Payment Method'])['Count'].transform('sum')\n",
    "grouped_location['Location Probability'] = grouped_location['Count']/total_count_location\n",
    "\n",
    "total_quantity_location = grouped_location.groupby(['Item','Payment Method'])['total_quantity_location'].transform('sum')\n",
    "grouped_location['Quantity Probability'] = grouped_location['total_quantity_location']/total_quantity_location"
   ]
  },
  {
   "cell_type": "code",
   "execution_count": 111,
   "id": "1346997e",
   "metadata": {},
   "outputs": [],
   "source": [
    "grouped_location['Combined Location']= (grouped_location['Location Probability'] + grouped_location['Quantity Probability'])/2"
   ]
  },
  {
   "cell_type": "code",
   "execution_count": 112,
   "id": "e490f7de",
   "metadata": {},
   "outputs": [],
   "source": [
    "most_likely_location = (\n",
    "    grouped_location.sort_values(['Item','Payment Method','Combined Location'],ascending=[False,False,False])\n",
    "    .drop_duplicates(subset=['Item','Payment Method'])\n",
    "    .set_index(['Item','Payment Method'])['Location']\n",
    ")"
   ]
  },
  {
   "cell_type": "code",
   "execution_count": 113,
   "id": "937f4f05",
   "metadata": {},
   "outputs": [],
   "source": [
    "lookup_df_location = most_likely_location.reset_index()\n",
    "lookup_df_location.columns = ['Item','Payment Method','Guessed Location']"
   ]
  },
  {
   "cell_type": "code",
   "execution_count": 114,
   "id": "2ccb76e2",
   "metadata": {},
   "outputs": [],
   "source": [
    "mask_location = df['Location'].isna()\n",
    "to_fill_location = df[mask_location].copy()"
   ]
  },
  {
   "cell_type": "code",
   "execution_count": 115,
   "id": "8747fe22",
   "metadata": {},
   "outputs": [],
   "source": [
    "filled_location = to_fill_location.merge(lookup_df_location,on=['Item','Payment Method'], how='left')\n",
    "df.loc[mask_location,'Location'] = filled_location['Guessed Location'].values"
   ]
  },
  {
   "cell_type": "code",
   "execution_count": 116,
   "id": "7e565d01",
   "metadata": {},
   "outputs": [
    {
     "name": "stdout",
     "output_type": "stream",
     "text": [
      "The total NaN value in Location: 1425\n"
     ]
    }
   ],
   "source": [
    "print(f\"The total NaN value in Location: {df['Location'].isna().sum()}\")"
   ]
  },
  {
   "cell_type": "markdown",
   "id": "ea7b1439",
   "metadata": {},
   "source": [
    "#### Removing the Duplicates"
   ]
  },
  {
   "cell_type": "code",
   "execution_count": 117,
   "id": "20c8c4fc",
   "metadata": {},
   "outputs": [
    {
     "name": "stdout",
     "output_type": "stream",
     "text": [
      "Total number of duplicates: 743\n"
     ]
    }
   ],
   "source": [
    "print(f'Total number of duplicates: {df.duplicated().sum()}')"
   ]
  },
  {
   "cell_type": "code",
   "execution_count": 118,
   "id": "521e610b",
   "metadata": {},
   "outputs": [
    {
     "name": "stdout",
     "output_type": "stream",
     "text": [
      "Total number of duplicates: 0\n"
     ]
    }
   ],
   "source": [
    "df = df.drop_duplicates()\n",
    "print(f'Total number of duplicates: {df.duplicated().sum()}')"
   ]
  },
  {
   "cell_type": "markdown",
   "id": "983b8ad6",
   "metadata": {},
   "source": [
    "#### Dropping the remaining NaN values"
   ]
  },
  {
   "cell_type": "code",
   "execution_count": 119,
   "id": "d4643473",
   "metadata": {},
   "outputs": [],
   "source": [
    "df = df.dropna(subset=['Item','Price Per Unit','Quantity','Payment Method','Location'])"
   ]
  },
  {
   "cell_type": "markdown",
   "id": "955c5833",
   "metadata": {},
   "source": [
    "#### Saving the cleaned file"
   ]
  },
  {
   "cell_type": "code",
   "execution_count": 120,
   "id": "5f51b162",
   "metadata": {},
   "outputs": [
    {
     "name": "stdout",
     "output_type": "stream",
     "text": [
      "Cleaned data exported successfully.\n"
     ]
    }
   ],
   "source": [
    "df.to_csv('../data/processed/cleaned_cafe_sales.csv', index=False)\n",
    "print(\"Cleaned data exported successfully.\")"
   ]
  }
 ],
 "metadata": {
  "kernelspec": {
   "display_name": "base",
   "language": "python",
   "name": "python3"
  },
  "language_info": {
   "codemirror_mode": {
    "name": "ipython",
    "version": 3
   },
   "file_extension": ".py",
   "mimetype": "text/x-python",
   "name": "python",
   "nbconvert_exporter": "python",
   "pygments_lexer": "ipython3",
   "version": "3.12.7"
  }
 },
 "nbformat": 4,
 "nbformat_minor": 5
}
